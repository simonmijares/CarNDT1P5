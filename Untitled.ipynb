{
 "cells": [
  {
   "cell_type": "code",
   "execution_count": 86,
   "metadata": {
    "collapsed": false,
    "deletable": true,
    "editable": true
   },
   "outputs": [
    {
     "name": "stdout",
     "output_type": "stream",
     "text": [
      "[1]\n"
     ]
    },
    {
     "name": "stderr",
     "output_type": "stream",
     "text": [
      "/home/simonmijares/anaconda3/envs/carnd-term1/lib/python3.5/site-packages/sklearn/utils/validation.py:395: DeprecationWarning: Passing 1d arrays as data is deprecated in 0.17 and will raise ValueError in 0.19. Reshape your data either using X.reshape(-1, 1) if your data has a single feature or X.reshape(1, -1) if it contains a single sample.\n",
      "  DeprecationWarning)\n"
     ]
    }
   ],
   "source": [
    "import numpy as np\n",
    "import cv2\n",
    "import matplotlib.pyplot as plt\n",
    "import matplotlib.image as mpimg\n",
    "from sklearn import svm\n",
    "from sklearn.externals import joblib\n",
    "from skimage.feature import hog\n",
    "from sklearn.preprocessing import StandardScaler\n",
    "import pickle\n",
    "%matplotlib qt\n",
    "\n",
    "img = mpimg.imread('test_images/test1.jpg')\n",
    "def featurizer(img):\n",
    "    kernel_size = 5\n",
    "    pixfeatures = cv2.GaussianBlur(\n",
    "        cv2.resize(img, (64,64)), (kernel_size, kernel_size), 0)\n",
    "    #pixfeatures1 = cv2.resize(pixfeatures[:,:,0],(16,16))\n",
    "    hsv = cv2.cvtColor(img, cv2.COLOR_RGB2HSV)\n",
    "    #sat = img[:,:,1]\n",
    "    #pixfeatures1 = cv2.resize(hsv[:,:,0],(16,16))\n",
    "    #gray = img[:,:,0]\n",
    "    ch1 = pixfeatures[:,:,0]\n",
    "    ch2 = pixfeatures[:,:,1]\n",
    "    ch3 = pixfeatures[:,:,2]\n",
    "    orient = 9\n",
    "    pix_per_cell = ch1.shape[0]/8\n",
    "    cell_per_block = 2\n",
    "    # Call our function with vis=True to see an image output\n",
    "    hogfeatures1 = get_hog_features(ch1, orient, \n",
    "                pix_per_cell, cell_per_block,\n",
    "                vis=False, feature_vec=False)\n",
    "    hogfeatures2 = get_hog_features(ch2, orient, \n",
    "                pix_per_cell, cell_per_block,\n",
    "                vis=False, feature_vec=False)\n",
    "    hogfeatures3 = get_hog_features(ch3, orient, \n",
    "                pix_per_cell, cell_per_block,\n",
    "                vis=False, feature_vec=False)\n",
    "    bins_range=(0, 256)\n",
    "    #hist1 = np.histogram(img[:,:,0], bins=32, range=bins_range)\n",
    "    hist2 = np.histogram(img[:,:,2], bins=32, range=bins_range)\n",
    "    #hist3 = np.histogram(img[:,:,2], bins=32, range=bins_range)\n",
    "    #histfeatures = np.concatenate((hist1[0], hist2[0], hist3[0]))\n",
    "    feature_list = [hogfeatures1.ravel(), hogfeatures2.ravel(), hogfeatures3.ravel(), hist2[0].ravel()/255]\n",
    "    # Create an array stack, NOTE: StandardScaler() expects np.float64\n",
    "    X = np.concatenate(feature_list).astype(np.float64)\n",
    "    X = X.reshape(-1, 1)\n",
    "    X_scaler = StandardScaler().fit(X)\n",
    "    # Apply the scaler to X\n",
    "    scaled_X = X_scaler.transform(X)\n",
    "    return np.ravel(scaled_X)\n",
    "\n",
    "size = 64\n",
    "down = 0\n",
    "left = 20\n",
    "#plt.imshow(img[407:407+128,807:807+128])\n",
    "plt.imshow(img[407+down:407+down+size,807+left:807+left+size])\n",
    "clf2 = joblib.load('SVCmodelIII.pkl') \n",
    "print(clf2.predict(featurizer(img[407+down:407+size+down,807+left:807+left+size])))"
   ]
  },
  {
   "cell_type": "code",
   "execution_count": null,
   "metadata": {
    "collapsed": true
   },
   "outputs": [],
   "source": [
    "ystart = 400\n",
    "test_image = mpimg.imread('test_images/test1.jpg')\n",
    "cars = detectcars(test_image, window_size = 64, ystartstop=[ystart, None])\n",
    "for car in cars:\n",
    "    cv2.rectangle(test_image, (car[0], car[2]),\n",
    "                  (car[1], car[3]), color = (255, 0, 0), thickness=6)\n",
    "heatframe = np.zeros_like(test_image[:,:,0])\n",
    "for car in cars:\n",
    "    heatframe[car[2]:car[3],car[0]:car[1]]+=1\n",
    "heatframe[(heatframe <= 4)] = 0\n",
    "labels = label(heatframe)\n",
    "processed_frame = draw_labeled_bboxes(np.copy(test_image), labels)\n",
    "plt.imshow(processed_frame)"
   ]
  },
  {
   "cell_type": "code",
   "execution_count": 27,
   "metadata": {
    "collapsed": false,
    "deletable": true,
    "editable": true
   },
   "outputs": [
    {
     "data": {
      "text/plain": [
       "400"
      ]
     },
     "execution_count": 27,
     "metadata": {},
     "output_type": "execute_result"
    }
   ],
   "source": [
    "ystartstops = [[400, 500], [400, 600], [400, 650], [400, None]]\n",
    "ystartstops[1][0]"
   ]
  }
 ],
 "metadata": {
  "kernelspec": {
   "display_name": "Python 3",
   "language": "python",
   "name": "python3"
  },
  "language_info": {
   "codemirror_mode": {
    "name": "ipython",
    "version": 3
   },
   "file_extension": ".py",
   "mimetype": "text/x-python",
   "name": "python",
   "nbconvert_exporter": "python",
   "pygments_lexer": "ipython3",
   "version": "3.5.2"
  },
  "widgets": {
   "state": {},
   "version": "1.1.2"
  }
 },
 "nbformat": 4,
 "nbformat_minor": 2
}
